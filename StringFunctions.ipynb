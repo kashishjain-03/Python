{
  "nbformat": 4,
  "nbformat_minor": 0,
  "metadata": {
    "colab": {
      "provenance": []
    },
    "kernelspec": {
      "name": "python3",
      "display_name": "Python 3"
    },
    "language_info": {
      "name": "python"
    }
  },
  "cells": [
    {
      "cell_type": "code",
      "execution_count": null,
      "metadata": {
        "id": "prawjjqPC4nR"
      },
      "outputs": [],
      "source": [
        "sample= \"Hi Python\"\n",
        "\n",
        "#indexing\n",
        "print(sample[1])\n",
        "\n",
        "#slicing\n",
        "print(sample[1:6])\n",
        "\n",
        "#Reverse a String str[start:stop:step] -> step=-1 will take the start to -1\n",
        "print(sample[::-1])\n",
        "\n",
        "#This is not allowed as string is immutable\n",
        "#sample[0]='d'\n",
        "\n",
        "sample=\"Kashish jain\"\n",
        "print(sample)\n",
        "\n",
        "# multiline string\n",
        "message = \"\"\"\n",
        "Never gonna give you up\n",
        "Never gonna let you down\n",
        "\"\"\"\n",
        "print(message)\n",
        "\n",
        "#String Comparison\n",
        "\n",
        "str1 = \"Hello, world!\"\n",
        "str2 = \"I love Swift.\"\n",
        "str3 = \"Hello, world!\"\n",
        "\n",
        "# compare str1 and str2\n",
        "print(str1 == str2)\n",
        "\n",
        "# compare str1 and str3\n",
        "print(str1 == str3)\n",
        "\n",
        "####Difference between is and == operator\n",
        "#In Python, the == operator is used to compare the equality of two objects, while the is operator is used to compare the identity of two objects:\n",
        "#== The equality operator compares the values of two objects, focusing on the data they hold. The memory location of the objects is irrelevant. For example, list1 == list2 returns True if list1 and list2 have the same elements.\n",
        "#is The identity operator compares if two references point to the same object in memory. For example, list1 is list2 returns True if list1 and list2 refer to the same object.\n",
        "#The == operator is used when the values of the operands are equal, and the condition is true. The is operator evaluates to true if the variables on either side of the operator point to the same object.\n",
        "\n",
        "str4=str1\n",
        "\n",
        "# Here location is same\n",
        "print(str1 is str4)\n",
        "# Only value is same\n",
        "print(str1 is str3)\n",
        "\n",
        "\n",
        "#String Concetanation\n",
        "greet = \"Hello, \"\n",
        "name = \"Jack\"\n",
        "\n",
        "# using + operator\n",
        "result = greet + name\n",
        "print(result)\n",
        "\n",
        "#Iterate a String\n",
        "name=\"KashishJain\"\n",
        "\n",
        "for letters in name:\n",
        "  print(letters)\n",
        "\n",
        "print(\"Length of string is: \", len(name))\n",
        "\n",
        "#Membership test : To check if a substring exists or not\n",
        "print(\"a\" in \"Kashish\")\n",
        "print(\"sh\" not in \"Kshish\")\n",
        "\n",
        "#Capital\n",
        "str5= \"kashish\"\n",
        "print(str5.upper())\n",
        "print(str5.lower())\n",
        "print(str5.capitalize())\n",
        "\n"
      ]
    },
    {
      "cell_type": "code",
      "source": [
        "#Partition\n",
        "#The partition() method takes a string parameter separator that separates the string at the first occurrence of it.\n",
        "#Return Value from partition()\n",
        "#The partition method returns a 3-tuple containing:\n",
        "#the part before the separator, separator parameter, and the part after the separator if the separator parameter is found in the string\n",
        "#the string itself and two empty strings if the separator parameter is not found\n",
        "\n",
        "string = \"Python is fun\"\n",
        "\n",
        "# 'is' separator is found\n",
        "print(string.partition('is '))\n",
        "\n",
        "# 'not' separator is not found\n",
        "print(string.partition('not '))\n",
        "\n",
        "string = \"Python is fun, isn't it\"\n",
        "\n",
        "# splits at first occurence of 'is'\n",
        "print(string.partition('is'))\n",
        "\n",
        "print(string.partition(' '))"
      ],
      "metadata": {
        "colab": {
          "base_uri": "https://localhost:8080/"
        },
        "id": "pE2zNv6AHfAf",
        "outputId": "255892c5-fc78-408e-d13a-d0fe4a6488f5"
      },
      "execution_count": 17,
      "outputs": [
        {
          "output_type": "stream",
          "name": "stdout",
          "text": [
            "('Python ', 'is ', 'fun')\n",
            "('Python is fun', '', '')\n",
            "('Python ', 'is', \" fun, isn't it\")\n",
            "('Python', ' ', \"is fun, isn't it\")\n"
          ]
        }
      ]
    },
    {
      "cell_type": "markdown",
      "source": [
        "**Replace():**\n",
        "\n",
        "**str.replace(old, new [, count])**\n",
        "\n",
        "old : old string\n",
        "new : new string\n",
        "count : number of times of be replaced : this is optional\n",
        "\n",
        "Returns a new string and keeps the original string same"
      ],
      "metadata": {
        "id": "Wv01wPtIISvJ"
      }
    },
    {
      "cell_type": "code",
      "source": [
        "song = 'cold, cold heart'\n",
        "\n",
        "# replacing 'cold' with 'hurt'\n",
        "print(song.replace('cold', 'hurt'))\n",
        "\n",
        "song = 'Let it be, let it be, let it be, let it be'\n",
        "\n",
        "# replacing only two occurrences of 'let'\n",
        "print(song.replace('let', \"don't let\", 2))"
      ],
      "metadata": {
        "colab": {
          "base_uri": "https://localhost:8080/"
        },
        "id": "2Kol_0XzJMWl",
        "outputId": "ed3c226f-cc02-430b-82d8-16e9d6ab8088"
      },
      "execution_count": 18,
      "outputs": [
        {
          "output_type": "stream",
          "name": "stdout",
          "text": [
            "hurt, hurt heart\n",
            "Let it be, don't let it be, don't let it be, let it be\n"
          ]
        }
      ]
    },
    {
      "cell_type": "markdown",
      "source": [
        "\n",
        "**Find()**\n",
        "\n",
        "The find() method returns the index of first occurrence of the substring (if found). If not found, it returns -1.\n",
        "\n",
        "str.find(string, start, end)\n"
      ],
      "metadata": {
        "id": "yGM7qjY_JaUd"
      }
    },
    {
      "cell_type": "code",
      "source": [
        "quote = 'Do small things with great love'\n",
        "\n",
        "# Substring is searched in 'hings with great love'\n",
        "print(quote.find('small things', 10))\n",
        "\n",
        "# Substring is searched in ' small things with great love'\n",
        "print(quote.find('small things', 2))\n",
        "\n",
        "# Substring is searched in 'hings with great lov'\n",
        "print(quote.find('o small ', 10, -1))\n",
        "\n",
        "# Substring is searched in 'll things with'\n",
        "print(quote.find('things ', 6, 20))"
      ],
      "metadata": {
        "colab": {
          "base_uri": "https://localhost:8080/"
        },
        "id": "Jgpz8JzaH-8S",
        "outputId": "d2fd1c11-75b2-4e9b-b1c6-25c4f3254eb8"
      },
      "execution_count": 19,
      "outputs": [
        {
          "output_type": "stream",
          "name": "stdout",
          "text": [
            "-1\n",
            "3\n",
            "-1\n",
            "9\n"
          ]
        }
      ]
    },
    {
      "cell_type": "code",
      "source": [
        "#rstrip() : removes trailing characters/whitespaces from the string :\n",
        "#lstrip() : removes\n",
        "#strip() :\n",
        "\n",
        "random_string = 'this is good    '\n",
        "\n",
        "# Trailing whitespace are removed\n",
        "print(random_string.rstrip())\n",
        "\n",
        "# 'si oo' are not trailing characters so nothing is removed\n",
        "print(random_string.rstrip('si oo'))\n",
        "\n",
        "# in 'sid oo', 'd oo' are the trailing characters, 'ood' is removed from the string\n",
        "#Here d oo are the characters and therefore they are removed\n",
        "print(random_string.rstrip('sid oo'))\n",
        "website = 'www.programiz.com/'\n",
        "\n",
        "print(website.rstrip('m/.'))\n",
        "\n",
        "\n",
        "#strip() : removes all the trailing and left side whitespaces/characters given in the argument\n",
        "string = '  xoxo love xoxo   '\n",
        "\n",
        "# all <whitespace>,x,o,e characters in the left\n",
        "# and right of string are removed\n",
        "print(string.strip(' xoe'))\n",
        "\n"
      ],
      "metadata": {
        "id": "PYJ350Q4Kk7K"
      },
      "execution_count": null,
      "outputs": []
    },
    {
      "cell_type": "markdown",
      "source": [
        "**The split() method breaks down a string into a list of substrings using a chosen separator.**\n",
        "\n",
        "str.split(separator, maxsplit)\n",
        "\n",
        "maxsplit: the maximum number of splits , default is -1 which means no limit\n"
      ],
      "metadata": {
        "id": "ykiqlkoBL7K-"
      }
    },
    {
      "cell_type": "code",
      "source": [
        "\n",
        "text = 'Python is fun'\n",
        "\n",
        "# split the text from space\n",
        "print(text.split())\n",
        "\n",
        "# Output: ['Python', 'is', 'fun']\n",
        "\n",
        "text= 'Split this string'\n",
        "\n",
        "# splits using space\n",
        "print(text.split())\n",
        "\n",
        "grocery = 'Milk, Chicken, Bread'\n",
        "\n",
        "# splits using ,\n",
        "print(grocery.split(', '))\n",
        "\n",
        "# splits using :\n",
        "# doesn't split as grocery doesn't have :\n",
        "print(grocery.split(':'))"
      ],
      "metadata": {
        "colab": {
          "base_uri": "https://localhost:8080/"
        },
        "id": "TGnVBDB5LwWX",
        "outputId": "4ea7314b-3567-4a2b-aa50-014dd407bad5"
      },
      "execution_count": 20,
      "outputs": [
        {
          "output_type": "stream",
          "name": "stdout",
          "text": [
            "['Python', 'is', 'fun']\n",
            "['Split', 'this', 'string']\n",
            "['Milk', 'Chicken', 'Bread']\n",
            "['Milk, Chicken, Bread']\n"
          ]
        }
      ]
    },
    {
      "cell_type": "code",
      "source": [
        "#The startswith(string, start,end) method returns True if a string starts with the specified prefix(string). If not, it returns False.\n",
        "text = \"Python is easy to learn.\"\n",
        "\n",
        "result = text.startswith('is easy')\n",
        "# returns False\n",
        "print(result)\n",
        "\n",
        "result = text.startswith('Python is ')\n",
        "# returns True\n",
        "print(result)\n",
        "\n",
        "result = text.startswith('Python is easy to learn.')\n",
        "# returns True\n",
        "print(result)"
      ],
      "metadata": {
        "id": "73oEaSZ4Meck"
      },
      "execution_count": null,
      "outputs": []
    },
    {
      "cell_type": "code",
      "source": [
        "#The isnumeric() method returns:\n",
        "#True -if all characters in the string are numeric\n",
        "#False -if at least one character is not a numeric\n",
        "symbol_number = \"012345\"\n",
        "\n",
        "# returns True as symbol_number has all numeric characters\n",
        "print(symbol_number.isnumeric())\n",
        "\n",
        "text = \"Python3\"\n",
        "\n",
        "# returns False as every character of text is not numeric\n",
        "print(text.isnumeric())"
      ],
      "metadata": {
        "id": "87I6igqNMuUB"
      },
      "execution_count": null,
      "outputs": []
    },
    {
      "cell_type": "markdown",
      "source": [
        "The index() method returns the index of a substring inside the string (if found). If the substring is not found, it raises an exception.\n",
        "\n"
      ],
      "metadata": {
        "id": "nWHlu7IrM5vv"
      }
    },
    {
      "cell_type": "code",
      "source": [
        "sentence = 'Python programming is fun.'\n",
        "\n",
        "result = sentence.index('is fun')\n",
        "print(\"Substring 'is fun':\", result)\n",
        "\n",
        "result = sentence.index('Java')\n",
        "print(\"Substring 'Java':\", result)\n",
        "\n",
        "sentence = 'Python programming is fun.'\n",
        "\n",
        "# Substring is searched in 'gramming is fun.'\n",
        "print(sentence.index('ing', 10))\n",
        "\n",
        "# Substring is searched in 'gramming is '\n",
        "print(sentence.index('g is', 10, -4))\n",
        "\n",
        "# Substring is searched in 'programming'\n",
        "print(sentence.index('fun', 7, 18))"
      ],
      "metadata": {
        "id": "ZIQe7R3-M9pR"
      },
      "execution_count": null,
      "outputs": []
    }
  ]
}